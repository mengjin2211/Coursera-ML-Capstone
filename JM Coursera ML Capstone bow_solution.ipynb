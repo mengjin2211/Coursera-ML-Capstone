{
 "cells": [
  {
   "cell_type": "markdown",
   "id": "95e483da-23b3-41f0-ab78-5a3ba2e558b3",
   "metadata": {},
   "source": [
    "<p style=\"text-align:center\">\n",
    "    <a href=\"https://skills.network/?utm_medium=Exinfluencer&utm_source=Exinfluencer&utm_content=000026UJ&utm_term=10006555&utm_id=NA-SkillsNetwork-Channel-SkillsNetworkCoursesIBMML321ENSkillsNetwork817-2022-01-01\" target=\"_blank\">\n",
    "    <img src=\"https://cf-courses-data.s3.us.cloud-object-storage.appdomain.cloud/assets/logos/SN_web_lightmode.png\" width=\"200\" alt=\"Skills Network Logo\"  />\n",
    "    </a>\n",
    "</p>\n"
   ]
  },
  {
   "cell_type": "markdown",
   "id": "fc484e05-7073-47ad-a3ce-e20323f6eedb",
   "metadata": {},
   "source": [
    "# **Extract Bag of Words (BoW) Features from Course Textual Content**\n"
   ]
  },
  {
   "cell_type": "markdown",
   "id": "0971929e-91aa-4d34-977d-b74db663cc49",
   "metadata": {},
   "source": [
    "Estimated time needed: **60** minutes\n"
   ]
  },
  {
   "cell_type": "markdown",
   "id": "564f3ee0-33f5-44f1-8edb-5da393bff1b7",
   "metadata": {},
   "source": [
    "The main goal of recommender systems is to help users find items they potentially interested in. Depending on the recommendation tasks, an item can be a movie, a restaurant, or, in our case, an online course. \n",
    "\n",
    "Machine learning algorithms cannot work on an item directly so we first need to extract features and represent the items mathematically, i.e., with a feature vector.\n",
    "\n",
    "Many items are often described by text so they are associated with textual data, such as the titles and descriptions of a movie or course. Since machine learning algorithms can not process textual data directly, we need to transform the raw text into numeric feature vectors.\n"
   ]
  },
  {
   "cell_type": "markdown",
   "id": "075dfbc7-11d6-4825-95e9-418078f7dce3",
   "metadata": {},
   "source": [
    "![](https://cf-courses-data.s3.us.cloud-object-storage.appdomain.cloud/IBM-ML321EN-SkillsNetwork/labs/module_2/images/extract_textual_features.png)\n"
   ]
  },
  {
   "cell_type": "markdown",
   "id": "24cfeb45-7ebb-49f7-855f-b6941ce1a0b3",
   "metadata": {},
   "source": [
    "In this lab, you will be learning to extract the bag of words (BoW) features from course titles and descriptions. The BoW feature is a simple but effective feature characterizing textual data and is widely used in many textual machine learning tasks.\n"
   ]
  },
  {
   "cell_type": "markdown",
   "id": "83357fce-32db-499f-ad00-897a62180f02",
   "metadata": {},
   "source": [
    "## Objectives\n"
   ]
  },
  {
   "cell_type": "markdown",
   "id": "e2f3932b-164a-4103-b631-dbc2e01c048d",
   "metadata": {},
   "source": [
    "After completing this lab you will be able to:\n"
   ]
  },
  {
   "cell_type": "markdown",
   "id": "012219f3-00f1-43d1-b1ba-1f0f61fe4453",
   "metadata": {},
   "source": [
    "* Extract Bag of Words (BoW) features from course titles and descriptions\n",
    "* Build a course BoW dataset to be used for building a content-based recommender system later\n"
   ]
  },
  {
   "cell_type": "markdown",
   "id": "d3d70242-7ed4-4761-8283-121328114c13",
   "metadata": {},
   "source": [
    "----\n"
   ]
  },
  {
   "cell_type": "markdown",
   "id": "059d20cb-9e49-41e6-9fee-9268da4aa539",
   "metadata": {},
   "source": [
    "## Prepare and setup the lab environment\n"
   ]
  },
  {
   "cell_type": "markdown",
   "id": "07fa941b-9108-4148-8534-82797b7c708f",
   "metadata": {},
   "source": [
    "First, let's install and import required libraries:\n"
   ]
  },
  {
   "cell_type": "code",
   "execution_count": 1,
   "id": "bfb15844-5f36-4a88-8f3e-249947e73eb6",
   "metadata": {},
   "outputs": [
    {
     "name": "stdout",
     "output_type": "stream",
     "text": [
      "Collecting nltk==3.6.7\n",
      "  Downloading nltk-3.6.7-py3-none-any.whl (1.5 MB)\n",
      "Requirement already satisfied: joblib in c:\\users\\chaid\\anaconda3\\lib\\site-packages (from nltk==3.6.7) (1.0.1)\n",
      "Requirement already satisfied: click in c:\\users\\chaid\\anaconda3\\lib\\site-packages (from nltk==3.6.7) (7.1.2)\n",
      "Collecting regex>=2021.8.3\n",
      "  Downloading regex-2023.10.3-cp38-cp38-win_amd64.whl (269 kB)\n",
      "Requirement already satisfied: tqdm in c:\\users\\chaid\\anaconda3\\lib\\site-packages (from nltk==3.6.7) (4.59.0)\n",
      "Installing collected packages: regex, nltk\n",
      "  Attempting uninstall: regex\n",
      "    Found existing installation: regex 2021.4.4\n",
      "    Uninstalling regex-2021.4.4:\n",
      "      Successfully uninstalled regex-2021.4.4\n",
      "  Attempting uninstall: nltk\n",
      "    Found existing installation: nltk 3.6.1\n",
      "    Uninstalling nltk-3.6.1:\n",
      "      Successfully uninstalled nltk-3.6.1\n",
      "Successfully installed nltk-3.6.7 regex-2023.10.3\n",
      "Collecting gensim==4.1.2\n",
      "  Downloading gensim-4.1.2-cp38-cp38-win_amd64.whl (24.0 MB)\n",
      "Requirement already satisfied: scipy>=0.18.1 in c:\\users\\chaid\\anaconda3\\lib\\site-packages (from gensim==4.1.2) (1.6.2)\n",
      "Requirement already satisfied: Cython==0.29.23 in c:\\users\\chaid\\anaconda3\\lib\\site-packages (from gensim==4.1.2) (0.29.23)\n",
      "Collecting smart-open>=1.8.1\n",
      "  Downloading smart_open-6.4.0-py3-none-any.whl (57 kB)\n",
      "Requirement already satisfied: numpy>=1.17.0 in c:\\users\\chaid\\anaconda3\\lib\\site-packages (from gensim==4.1.2) (1.22.4)\n",
      "Installing collected packages: smart-open, gensim\n",
      "Successfully installed gensim-4.1.2 smart-open-6.4.0\n"
     ]
    }
   ],
   "source": [
    "!pip install nltk==3.6.7\n",
    "!pip install gensim==4.1.2"
   ]
  },
  {
   "cell_type": "code",
   "execution_count": 1,
   "metadata": {},
   "outputs": [],
   "source": [
    "import gensim"
   ]
  },
  {
   "cell_type": "code",
   "execution_count": 2,
   "id": "d17368a0-e7e3-42b3-8a7d-d6db5c500f28",
   "metadata": {},
   "outputs": [],
   "source": [
    "import pandas as pd\n",
    "import nltk as nltk\n",
    "from nltk.corpus import stopwords\n",
    "from nltk.tokenize import word_tokenize\n",
    "from gensim import corpora\n",
    "\n",
    "%matplotlib inline"
   ]
  },
  {
   "cell_type": "markdown",
   "id": "0b29cbb7-4058-4a6c-b830-c7ecbc7c5313",
   "metadata": {},
   "source": [
    "Download stopwords\n"
   ]
  },
  {
   "cell_type": "code",
   "execution_count": 3,
   "id": "bd9b71d0-1159-4cd6-be41-9e8387f66f69",
   "metadata": {},
   "outputs": [
    {
     "name": "stderr",
     "output_type": "stream",
     "text": [
      "[nltk_data] Downloading package punkt to\n",
      "[nltk_data]     C:\\Users\\chaid\\AppData\\Roaming\\nltk_data...\n",
      "[nltk_data]   Package punkt is already up-to-date!\n",
      "[nltk_data] Downloading package stopwords to\n",
      "[nltk_data]     C:\\Users\\chaid\\AppData\\Roaming\\nltk_data...\n",
      "[nltk_data]   Package stopwords is already up-to-date!\n",
      "[nltk_data] Downloading package averaged_perceptron_tagger to\n",
      "[nltk_data]     C:\\Users\\chaid\\AppData\\Roaming\\nltk_data...\n",
      "[nltk_data]   Package averaged_perceptron_tagger is already up-to-\n",
      "[nltk_data]       date!\n"
     ]
    },
    {
     "data": {
      "text/plain": [
       "True"
      ]
     },
     "execution_count": 3,
     "metadata": {},
     "output_type": "execute_result"
    }
   ],
   "source": [
    "nltk.download('punkt')\n",
    "nltk.download('stopwords')\n",
    "nltk.download('averaged_perceptron_tagger')"
   ]
  },
  {
   "cell_type": "code",
   "execution_count": 4,
   "id": "d3d003ea-1745-4f59-8fe3-d65844248f56",
   "metadata": {},
   "outputs": [],
   "source": [
    "# also set a random state\n",
    "rs = 123"
   ]
  },
  {
   "cell_type": "markdown",
   "id": "740312d5-23b7-40c6-a2cb-a03a340f4523",
   "metadata": {},
   "source": [
    "### Bag of Words (BoW) features\n"
   ]
  },
  {
   "cell_type": "markdown",
   "id": "b0e5fd8e-0ed5-42a6-9415-b240e52ab70e",
   "metadata": {},
   "source": [
    "BoW features are essentially the counts or frequencies of each word that appears in a text (string). Let's illustrate it with some simple examples.\n"
   ]
  },
  {
   "cell_type": "markdown",
   "id": "8ee872c3-40f4-4baa-b6e7-c13f2873d823",
   "metadata": {},
   "source": [
    "Suppose we have two course descriptions as follows:\n"
   ]
  },
  {
   "cell_type": "code",
   "execution_count": 6,
   "id": "4ed67ed3-608e-4e14-9f69-1d31ae0595db",
   "metadata": {},
   "outputs": [],
   "source": [
    "course1 = \"this is an introduction data science course which introduces data science to beginners\""
   ]
  },
  {
   "cell_type": "code",
   "execution_count": 7,
   "id": "e52596e0-a377-4594-9150-677e9afcb9a7",
   "metadata": {},
   "outputs": [],
   "source": [
    "course2 = \"machine learning for beginners\""
   ]
  },
  {
   "cell_type": "code",
   "execution_count": 8,
   "id": "b53f5476-0fbf-4946-aafd-5e9ae4ecfb7d",
   "metadata": {},
   "outputs": [
    {
     "data": {
      "text/plain": [
       "['this is an introduction data science course which introduces data science to beginners',\n",
       " 'machine learning for beginners']"
      ]
     },
     "execution_count": 8,
     "metadata": {},
     "output_type": "execute_result"
    }
   ],
   "source": [
    "courses = [course1, course2]\n",
    "courses"
   ]
  },
  {
   "cell_type": "markdown",
   "id": "ae39e1f2-7a3c-4b9d-ab20-75030f8e447c",
   "metadata": {},
   "source": [
    "The first step is to split the two strings into words (tokens). A token in the text processing context means the smallest unit of text such as a word, a symbol/punctuation, or a phrase, etc. The process to transform a string into a collection of tokens is called `tokenization`.\n"
   ]
  },
  {
   "cell_type": "markdown",
   "id": "7035267f-e19d-4b86-842d-f5e35a2991e3",
   "metadata": {},
   "source": [
    "One common way to do ```tokenization``` is to use the Python built-in `split()` method of the `str` class.  However, in this lab, we want to leverage the `nltk` (Natural Language Toolkit) package, which is probably the most commonly used package to process text or natural language.\n"
   ]
  },
  {
   "cell_type": "markdown",
   "id": "00e51374-3337-4b4d-a0d4-c91eed6d442d",
   "metadata": {},
   "source": [
    " More specifically, we will use the ```word_tokenize()``` method on the content of course (string):\n"
   ]
  },
  {
   "cell_type": "code",
   "execution_count": 9,
   "id": "ab0d204f-e87c-43f3-a118-c50fc43418c3",
   "metadata": {},
   "outputs": [],
   "source": [
    "# Tokenize the two courses\n",
    "tokenized_courses = [word_tokenize(course) for course in courses]"
   ]
  },
  {
   "cell_type": "code",
   "execution_count": 10,
   "id": "7baaecde-2e48-49f8-b098-62bd854e70d3",
   "metadata": {},
   "outputs": [
    {
     "data": {
      "text/plain": [
       "[['this',\n",
       "  'is',\n",
       "  'an',\n",
       "  'introduction',\n",
       "  'data',\n",
       "  'science',\n",
       "  'course',\n",
       "  'which',\n",
       "  'introduces',\n",
       "  'data',\n",
       "  'science',\n",
       "  'to',\n",
       "  'beginners'],\n",
       " ['machine', 'learning', 'for', 'beginners']]"
      ]
     },
     "execution_count": 10,
     "metadata": {},
     "output_type": "execute_result"
    }
   ],
   "source": [
    "tokenized_courses"
   ]
  },
  {
   "cell_type": "markdown",
   "id": "b2f426d5-63dc-480d-ac87-d9f24e8be5fe",
   "metadata": {},
   "source": [
    "As you can see from the cell output, two courses have been tokenized and turned into two token arrays.\n"
   ]
  },
  {
   "cell_type": "markdown",
   "id": "15c7fa17-dc8c-4279-88dd-5fa91e559500",
   "metadata": {},
   "source": [
    "Next, we want to create a token dictionary to index all tokens. Basically, we want to assign a key/index for each token. One way to index tokens is to use the `gensim` package which is another popular package for processing textual data:\n"
   ]
  },
  {
   "cell_type": "code",
   "execution_count": 11,
   "id": "5aa71f1b-c537-433c-81d9-7be19cb9dc50",
   "metadata": {},
   "outputs": [],
   "source": [
    "# Create a token dictionary for the two courses\n",
    "tokens_dict = gensim.corpora.Dictionary(tokenized_courses)"
   ]
  },
  {
   "cell_type": "code",
   "execution_count": 18,
   "metadata": {},
   "outputs": [
    {
     "data": {
      "text/plain": [
       "'machine'"
      ]
     },
     "execution_count": 18,
     "metadata": {},
     "output_type": "execute_result"
    }
   ],
   "source": []
  },
  {
   "cell_type": "code",
   "execution_count": 12,
   "id": "e70dedf7-5c0d-49af-9414-ed39072ba468",
   "metadata": {},
   "outputs": [
    {
     "name": "stdout",
     "output_type": "stream",
     "text": [
      "{'an': 0, 'beginners': 1, 'course': 2, 'data': 3, 'introduces': 4, 'introduction': 5, 'is': 6, 'science': 7, 'this': 8, 'to': 9, 'which': 10, 'for': 11, 'learning': 12, 'machine': 13}\n"
     ]
    }
   ],
   "source": [
    "print(tokens_dict.token2id)"
   ]
  },
  {
   "cell_type": "markdown",
   "id": "684cafae-cbe0-4959-a593-4254955063c3",
   "metadata": {},
   "source": [
    "With the token dictionary, we can easily count each token in the two example courses and output two BoW feature vectors. However, more conveniently, the `gensim` package provides us a `doc2bow` method to generate BoW features out-of-box.\n"
   ]
  },
  {
   "cell_type": "code",
   "execution_count": 13,
   "id": "b92058f4-d73e-43a4-aa91-44269f427c20",
   "metadata": {},
   "outputs": [],
   "source": [
    "# Generate BoW features for each course\n",
    "courses_bow = [tokens_dict.doc2bow(course) for course in tokenized_courses]"
   ]
  },
  {
   "cell_type": "code",
   "execution_count": 14,
   "id": "709ef8d4-49bc-4aec-aa94-213a93a86c59",
   "metadata": {},
   "outputs": [
    {
     "data": {
      "text/plain": [
       "[[(0, 1),\n",
       "  (1, 1),\n",
       "  (2, 1),\n",
       "  (3, 2),\n",
       "  (4, 1),\n",
       "  (5, 1),\n",
       "  (6, 1),\n",
       "  (7, 2),\n",
       "  (8, 1),\n",
       "  (9, 1),\n",
       "  (10, 1)],\n",
       " [(1, 1), (11, 1), (12, 1), (13, 1)]]"
      ]
     },
     "execution_count": 14,
     "metadata": {},
     "output_type": "execute_result"
    }
   ],
   "source": [
    "courses_bow"
   ]
  },
  {
   "cell_type": "markdown",
   "id": "6610ac6e-536a-4574-b2f3-0347f0c3b225",
   "metadata": {},
   "source": [
    "It outputs two BoW arrays where each element is a tuple, e.g., (0, 1) and (7, 2). The first element of the tuple is the token ID and the second element is its count. So `(0, 1)` means `(``an``, 1)` and `(7, 2)` means `(``science``, 2)`.\n"
   ]
  },
  {
   "cell_type": "markdown",
   "id": "96c6274b-f257-4627-a509-95a572ab1faa",
   "metadata": {},
   "source": [
    "We can use the following code snippet to print each token and its count:\n"
   ]
  },
  {
   "cell_type": "code",
   "execution_count": null,
   "metadata": {},
   "outputs": [],
   "source": []
  },
  {
   "cell_type": "code",
   "execution_count": 16,
   "id": "06ad83c6-ed33-4182-9fbd-c47cb53ff8f7",
   "metadata": {},
   "outputs": [
    {
     "name": "stdout",
     "output_type": "stream",
     "text": [
      "Bag of words for course 0:\n",
      "--Token: 'an', Count:1, Index:0\n",
      "--Token: 'beginners', Count:1, Index:1\n",
      "--Token: 'course', Count:1, Index:2\n",
      "--Token: 'data', Count:2, Index:3\n",
      "--Token: 'introduces', Count:1, Index:4\n",
      "--Token: 'introduction', Count:1, Index:5\n",
      "--Token: 'is', Count:1, Index:6\n",
      "--Token: 'science', Count:2, Index:7\n",
      "--Token: 'this', Count:1, Index:8\n",
      "--Token: 'to', Count:1, Index:9\n",
      "--Token: 'which', Count:1, Index:10\n",
      "Bag of words for course 1:\n",
      "--Token: 'beginners', Count:1, Index:1\n",
      "--Token: 'for', Count:1, Index:11\n",
      "--Token: 'learning', Count:1, Index:12\n",
      "--Token: 'machine', Count:1, Index:13\n"
     ]
    }
   ],
   "source": [
    "for course_idx, course_bow in enumerate(courses_bow):\n",
    "    print(f\"Bag of words for course {course_idx}:\")\n",
    "    # For each token index, print its bow value (word count)\n",
    "    for token_index, token_bow in course_bow:\n",
    "        token = tokens_dict.get(token_index)\n",
    "        print(f\"--Token: '{token}', Count:{token_bow}, Index:{token_index}\")"
   ]
  },
  {
   "cell_type": "markdown",
   "id": "fe609836-62a6-4837-9063-d4424a7fcab3",
   "metadata": {},
   "source": [
    "If we turn to the long list into a horizontal feature vectors, we can see the two courses become two numerical feature vectors:\n"
   ]
  },
  {
   "cell_type": "markdown",
   "id": "155b7c02-f768-4dc5-81e2-a8c404d753b4",
   "metadata": {},
   "source": [
    "![](https://cf-courses-data.s3.us.cloud-object-storage.appdomain.cloud/IBM-ML321EN-SkillsNetwork/labs/module_2/images/bow.png)\n"
   ]
  },
  {
   "cell_type": "markdown",
   "id": "f840ee20-5efa-4d2f-998d-c59f78d6fddd",
   "metadata": {},
   "source": [
    "### BoW dimensionality reduction\n"
   ]
  },
  {
   "cell_type": "markdown",
   "id": "35d9b92b-c25b-4f7e-82de-168a89e93f95",
   "metadata": {},
   "source": [
    "A document may contain tens of thousands of words which makes the dimension of the BoW feature vector huge. To reduce the dimensionality, one common way is to filter the relatively meaningless tokens such as stop words or sometimes add position and adjective words.\n"
   ]
  },
  {
   "cell_type": "markdown",
   "id": "9d1618a2-9e99-48ab-aec8-a3401b257296",
   "metadata": {},
   "source": [
    "Note there are many other ways to reduce dimensionality such as `stemming` and `lemmatization` but they are beyond the scope of this capstone project. You are encouraged to explore them yourself.\n"
   ]
  },
  {
   "cell_type": "markdown",
   "id": "0dc8c1e2-ecfa-4d51-b066-ee37ce57c871",
   "metadata": {},
   "source": [
    "We can use the english stop words provided in `nltk`:\n"
   ]
  },
  {
   "cell_type": "code",
   "execution_count": 24,
   "id": "6bdd93bb-9a44-4918-9c8b-61c35e3770df",
   "metadata": {},
   "outputs": [],
   "source": [
    "stop_words = set(stopwords.words('english'))"
   ]
  },
  {
   "cell_type": "code",
   "execution_count": 25,
   "id": "21ef0d1c-b391-424d-895a-117aa58d32ba",
   "metadata": {},
   "outputs": [
    {
     "data": {
      "text/plain": [
       "{'a',\n",
       " 'about',\n",
       " 'above',\n",
       " 'after',\n",
       " 'again',\n",
       " 'against',\n",
       " 'ain',\n",
       " 'all',\n",
       " 'am',\n",
       " 'an',\n",
       " 'and',\n",
       " 'any',\n",
       " 'are',\n",
       " 'aren',\n",
       " \"aren't\",\n",
       " 'as',\n",
       " 'at',\n",
       " 'be',\n",
       " 'because',\n",
       " 'been',\n",
       " 'before',\n",
       " 'being',\n",
       " 'below',\n",
       " 'between',\n",
       " 'both',\n",
       " 'but',\n",
       " 'by',\n",
       " 'can',\n",
       " 'couldn',\n",
       " \"couldn't\",\n",
       " 'd',\n",
       " 'did',\n",
       " 'didn',\n",
       " \"didn't\",\n",
       " 'do',\n",
       " 'does',\n",
       " 'doesn',\n",
       " \"doesn't\",\n",
       " 'doing',\n",
       " 'don',\n",
       " \"don't\",\n",
       " 'down',\n",
       " 'during',\n",
       " 'each',\n",
       " 'few',\n",
       " 'for',\n",
       " 'from',\n",
       " 'further',\n",
       " 'had',\n",
       " 'hadn',\n",
       " \"hadn't\",\n",
       " 'has',\n",
       " 'hasn',\n",
       " \"hasn't\",\n",
       " 'have',\n",
       " 'haven',\n",
       " \"haven't\",\n",
       " 'having',\n",
       " 'he',\n",
       " 'her',\n",
       " 'here',\n",
       " 'hers',\n",
       " 'herself',\n",
       " 'him',\n",
       " 'himself',\n",
       " 'his',\n",
       " 'how',\n",
       " 'i',\n",
       " 'if',\n",
       " 'in',\n",
       " 'into',\n",
       " 'is',\n",
       " 'isn',\n",
       " \"isn't\",\n",
       " 'it',\n",
       " \"it's\",\n",
       " 'its',\n",
       " 'itself',\n",
       " 'just',\n",
       " 'll',\n",
       " 'm',\n",
       " 'ma',\n",
       " 'me',\n",
       " 'mightn',\n",
       " \"mightn't\",\n",
       " 'more',\n",
       " 'most',\n",
       " 'mustn',\n",
       " \"mustn't\",\n",
       " 'my',\n",
       " 'myself',\n",
       " 'needn',\n",
       " \"needn't\",\n",
       " 'no',\n",
       " 'nor',\n",
       " 'not',\n",
       " 'now',\n",
       " 'o',\n",
       " 'of',\n",
       " 'off',\n",
       " 'on',\n",
       " 'once',\n",
       " 'only',\n",
       " 'or',\n",
       " 'other',\n",
       " 'our',\n",
       " 'ours',\n",
       " 'ourselves',\n",
       " 'out',\n",
       " 'over',\n",
       " 'own',\n",
       " 're',\n",
       " 's',\n",
       " 'same',\n",
       " 'shan',\n",
       " \"shan't\",\n",
       " 'she',\n",
       " \"she's\",\n",
       " 'should',\n",
       " \"should've\",\n",
       " 'shouldn',\n",
       " \"shouldn't\",\n",
       " 'so',\n",
       " 'some',\n",
       " 'such',\n",
       " 't',\n",
       " 'than',\n",
       " 'that',\n",
       " \"that'll\",\n",
       " 'the',\n",
       " 'their',\n",
       " 'theirs',\n",
       " 'them',\n",
       " 'themselves',\n",
       " 'then',\n",
       " 'there',\n",
       " 'these',\n",
       " 'they',\n",
       " 'this',\n",
       " 'those',\n",
       " 'through',\n",
       " 'to',\n",
       " 'too',\n",
       " 'under',\n",
       " 'until',\n",
       " 'up',\n",
       " 've',\n",
       " 'very',\n",
       " 'was',\n",
       " 'wasn',\n",
       " \"wasn't\",\n",
       " 'we',\n",
       " 'were',\n",
       " 'weren',\n",
       " \"weren't\",\n",
       " 'what',\n",
       " 'when',\n",
       " 'where',\n",
       " 'which',\n",
       " 'while',\n",
       " 'who',\n",
       " 'whom',\n",
       " 'why',\n",
       " 'will',\n",
       " 'with',\n",
       " 'won',\n",
       " \"won't\",\n",
       " 'wouldn',\n",
       " \"wouldn't\",\n",
       " 'y',\n",
       " 'you',\n",
       " \"you'd\",\n",
       " \"you'll\",\n",
       " \"you're\",\n",
       " \"you've\",\n",
       " 'your',\n",
       " 'yours',\n",
       " 'yourself',\n",
       " 'yourselves'}"
      ]
     },
     "execution_count": 25,
     "metadata": {},
     "output_type": "execute_result"
    }
   ],
   "source": [
    "stop_words"
   ]
  },
  {
   "cell_type": "markdown",
   "id": "fa6cafc7-2d0f-44eb-a3f8-387b271186b9",
   "metadata": {},
   "source": [
    "Then we can filter those English stop words from the tokens in course1:\n"
   ]
  },
  {
   "cell_type": "code",
   "execution_count": 26,
   "id": "da73aa06-5f0e-47fb-8611-cccc773fee76",
   "metadata": {},
   "outputs": [
    {
     "data": {
      "text/plain": [
       "['this',\n",
       " 'is',\n",
       " 'an',\n",
       " 'introduction',\n",
       " 'data',\n",
       " 'science',\n",
       " 'course',\n",
       " 'which',\n",
       " 'introduces',\n",
       " 'data',\n",
       " 'science',\n",
       " 'to',\n",
       " 'beginners']"
      ]
     },
     "execution_count": 26,
     "metadata": {},
     "output_type": "execute_result"
    }
   ],
   "source": [
    "# Tokens in course 1\n",
    "tokenized_courses[0]"
   ]
  },
  {
   "cell_type": "code",
   "execution_count": 27,
   "id": "0f284775-3836-4e5f-8c09-fcdb18302543",
   "metadata": {},
   "outputs": [],
   "source": [
    "processed_tokens = [w for w in tokenized_courses[0] if not w.lower() in stop_words]"
   ]
  },
  {
   "cell_type": "code",
   "execution_count": 28,
   "id": "3c31765f-05e9-47b9-97d2-75ce1026a2db",
   "metadata": {},
   "outputs": [
    {
     "data": {
      "text/plain": [
       "['introduction',\n",
       " 'data',\n",
       " 'science',\n",
       " 'course',\n",
       " 'introduces',\n",
       " 'data',\n",
       " 'science',\n",
       " 'beginners']"
      ]
     },
     "execution_count": 28,
     "metadata": {},
     "output_type": "execute_result"
    }
   ],
   "source": [
    "processed_tokens"
   ]
  },
  {
   "cell_type": "markdown",
   "id": "840d09cd-a996-4615-bfef-d65b7442af42",
   "metadata": {},
   "source": [
    "You can see the number of tokens for ```course1``` has been reduced.\n"
   ]
  },
  {
   "cell_type": "markdown",
   "id": "4c89f467-4458-4fb5-9d35-4d7cd69d7836",
   "metadata": {},
   "source": [
    "Another common way is to only keep nouns in the text. We can use the `nltk.pos_tag()` method to analyze the part of speech (POS) and annotate each word.\n"
   ]
  },
  {
   "cell_type": "code",
   "execution_count": 29,
   "id": "fc0d0a6f-f543-42f6-a77f-22cd9bd9fed0",
   "metadata": {},
   "outputs": [
    {
     "data": {
      "text/plain": [
       "[('this', 'DT'),\n",
       " ('is', 'VBZ'),\n",
       " ('an', 'DT'),\n",
       " ('introduction', 'NN'),\n",
       " ('data', 'NNS'),\n",
       " ('science', 'NN'),\n",
       " ('course', 'NN'),\n",
       " ('which', 'WDT'),\n",
       " ('introduces', 'VBZ'),\n",
       " ('data', 'NNS'),\n",
       " ('science', 'NN'),\n",
       " ('to', 'TO'),\n",
       " ('beginners', 'NNS')]"
      ]
     },
     "execution_count": 29,
     "metadata": {},
     "output_type": "execute_result"
    }
   ],
   "source": [
    "tags = nltk.pos_tag(tokenized_courses[0])\n",
    "tags"
   ]
  },
  {
   "cell_type": "markdown",
   "id": "8981392b-9dc1-445a-9fe9-782bdceefa17",
   "metadata": {},
   "source": [
    "As we can see [`introduction`, `data`, `science`, `course`, `beginners`] are all of the nouns and we may keep them in the BoW feature vector.\n"
   ]
  },
  {
   "cell_type": "markdown",
   "id": "ea136fa2-cff6-4476-8374-7e9dadbdf73b",
   "metadata": {},
   "source": [
    "### TASK: Extract BoW features for course textual content and build a dataset\n"
   ]
  },
  {
   "cell_type": "markdown",
   "id": "095447bc-e1c1-493c-9362-657d638206dc",
   "metadata": {},
   "source": [
    "By now you have learned what a BoW feature is, so let's start extracting BoW features from some real course textual content.\n"
   ]
  },
  {
   "cell_type": "code",
   "execution_count": 30,
   "id": "dac2f543-7559-430e-a8c3-02fd718f6e6a",
   "metadata": {},
   "outputs": [],
   "source": [
    "course_url = \"https://cf-courses-data.s3.us.cloud-object-storage.appdomain.cloud/IBM-ML321EN-SkillsNetwork/labs/datasets/course_processed.csv\"\n",
    "course_content_df = pd.read_csv(course_url)"
   ]
  },
  {
   "cell_type": "code",
   "execution_count": 31,
   "id": "9a242754-0467-4700-928f-e0d682a42b6f",
   "metadata": {},
   "outputs": [
    {
     "data": {
      "text/plain": [
       "COURSE_ID                                               ML0201EN\n",
       "TITLE          robots are coming  build iot apps with watson ...\n",
       "DESCRIPTION    have fun with iot and learn along the way  if ...\n",
       "Name: 0, dtype: object"
      ]
     },
     "execution_count": 31,
     "metadata": {},
     "output_type": "execute_result"
    }
   ],
   "source": [
    "course_content_df.iloc[0, :]"
   ]
  },
  {
   "cell_type": "markdown",
   "id": "500b3ee5-b212-4a83-b212-9127097e3fd2",
   "metadata": {},
   "source": [
    "The course content dataset has three columns `COURSE_ID`, `TITLE`, and `DESCRIPTION`. `TITLE` and `DESCRIPTION` are all text upon which we want to extract BoW features. \n"
   ]
  },
  {
   "cell_type": "markdown",
   "id": "bd189679-0e1c-4c90-a44e-369a4c245335",
   "metadata": {},
   "source": [
    "Let's join those two text columns together.\n"
   ]
  },
  {
   "cell_type": "code",
   "execution_count": 37,
   "metadata": {},
   "outputs": [
    {
     "data": {
      "text/html": [
       "<div>\n",
       "<style scoped>\n",
       "    .dataframe tbody tr th:only-of-type {\n",
       "        vertical-align: middle;\n",
       "    }\n",
       "\n",
       "    .dataframe tbody tr th {\n",
       "        vertical-align: top;\n",
       "    }\n",
       "\n",
       "    .dataframe thead th {\n",
       "        text-align: right;\n",
       "    }\n",
       "</style>\n",
       "<table border=\"1\" class=\"dataframe\">\n",
       "  <thead>\n",
       "    <tr style=\"text-align: right;\">\n",
       "      <th></th>\n",
       "      <th>index</th>\n",
       "      <th>COURSE_ID</th>\n",
       "      <th>TITLE</th>\n",
       "      <th>DESCRIPTION</th>\n",
       "      <th>course_texts</th>\n",
       "    </tr>\n",
       "  </thead>\n",
       "  <tbody>\n",
       "    <tr>\n",
       "      <th>0</th>\n",
       "      <td>0</td>\n",
       "      <td>ML0201EN</td>\n",
       "      <td>robots are coming  build iot apps with watson ...</td>\n",
       "      <td>have fun with iot and learn along the way  if ...</td>\n",
       "      <td>robots are coming  build iot apps with watson ...</td>\n",
       "    </tr>\n",
       "    <tr>\n",
       "      <th>1</th>\n",
       "      <td>1</td>\n",
       "      <td>ML0122EN</td>\n",
       "      <td>accelerating deep learning with gpu</td>\n",
       "      <td>training complex deep learning models with lar...</td>\n",
       "      <td>accelerating deep learning with gpu training c...</td>\n",
       "    </tr>\n",
       "  </tbody>\n",
       "</table>\n",
       "</div>"
      ],
      "text/plain": [
       "   index COURSE_ID                                              TITLE  \\\n",
       "0      0  ML0201EN  robots are coming  build iot apps with watson ...   \n",
       "1      1  ML0122EN                accelerating deep learning with gpu   \n",
       "\n",
       "                                         DESCRIPTION  \\\n",
       "0  have fun with iot and learn along the way  if ...   \n",
       "1  training complex deep learning models with lar...   \n",
       "\n",
       "                                        course_texts  \n",
       "0  robots are coming  build iot apps with watson ...  \n",
       "1  accelerating deep learning with gpu training c...  "
      ]
     },
     "execution_count": 37,
     "metadata": {},
     "output_type": "execute_result"
    }
   ],
   "source": [
    "course_content_df.head(2)"
   ]
  },
  {
   "cell_type": "code",
   "execution_count": 35,
   "id": "06e0ffd9-2987-4ffc-9f22-6e132794ae0b",
   "metadata": {},
   "outputs": [],
   "source": [
    "# Merge TITLE and DESCRIPTION title\n",
    "course_content_df['course_texts'] = course_content_df[['TITLE', 'DESCRIPTION']].agg(' '.join, axis=1)\n",
    "course_content_df = course_content_df.reset_index()\n",
    "course_content_df['index'] = course_content_df.index"
   ]
  },
  {
   "cell_type": "code",
   "execution_count": 36,
   "id": "0321fccd-904f-4b41-a368-bb732e828ae3",
   "metadata": {},
   "outputs": [
    {
     "data": {
      "text/plain": [
       "index                                                           0\n",
       "COURSE_ID                                                ML0201EN\n",
       "TITLE           robots are coming  build iot apps with watson ...\n",
       "DESCRIPTION     have fun with iot and learn along the way  if ...\n",
       "course_texts    robots are coming  build iot apps with watson ...\n",
       "Name: 0, dtype: object"
      ]
     },
     "execution_count": 36,
     "metadata": {},
     "output_type": "execute_result"
    }
   ],
   "source": [
    "course_content_df.iloc[0, :]"
   ]
  },
  {
   "cell_type": "markdown",
   "id": "25ef1252-1211-4c1a-96dc-0b078087c7e4",
   "metadata": {},
   "source": [
    "and we have prepared a `tokenize_course()` method for you to tokenize the course content:\n"
   ]
  },
  {
   "cell_type": "code",
   "execution_count": 38,
   "id": "7c3a355c-b8bf-466e-8d27-d6658040bf7d",
   "metadata": {},
   "outputs": [],
   "source": [
    "def tokenize_course(course, keep_only_nouns=True):\n",
    "    stop_words = set(stopwords.words('english'))\n",
    "    word_tokens = word_tokenize(course)\n",
    "    # Remove English stop words and numbers\n",
    "    word_tokens = [w for w in word_tokens if (not w.lower() in stop_words) and (not w.isnumeric())]\n",
    "    # Only keep nouns \n",
    "    if keep_only_nouns:\n",
    "        filter_list = ['WDT', 'WP', 'WRB', 'FW', 'IN', 'JJR', 'JJS', 'MD', 'PDT', 'POS', 'PRP', 'RB', 'RBR', 'RBS',\n",
    "                       'RP']\n",
    "        tags = nltk.pos_tag(word_tokens)\n",
    "        word_tokens = [word for word, pos in tags if pos not in filter_list]\n",
    "\n",
    "    return word_tokens"
   ]
  },
  {
   "cell_type": "markdown",
   "id": "c858bb0f-8bc6-4e52-aea8-f733b2b3890a",
   "metadata": {},
   "source": [
    "Let's try it on the first course.\n"
   ]
  },
  {
   "cell_type": "code",
   "execution_count": 39,
   "id": "4d53a6ee-a980-46c9-acb4-6c28871d1e51",
   "metadata": {},
   "outputs": [
    {
     "data": {
      "text/plain": [
       "'robots are coming  build iot apps with watson  swift  and node red have fun with iot and learn along the way  if you re a swift developer and want to learn more about iot and watson ai services in the cloud  raspberry pi   and node red  you ve found the right place  you ll build iot apps to read temperature data  take pictures with a raspcam  use ai to recognize the objects in those pictures  and program an irobot create 2 robot  '"
      ]
     },
     "execution_count": 39,
     "metadata": {},
     "output_type": "execute_result"
    }
   ],
   "source": [
    "a_course = course_content_df.iloc[0, :]['course_texts']\n",
    "a_course"
   ]
  },
  {
   "cell_type": "code",
   "execution_count": 40,
   "id": "424804e4-b2da-406f-9212-e9f1253b7073",
   "metadata": {},
   "outputs": [
    {
     "data": {
      "text/plain": [
       "['robots',\n",
       " 'coming',\n",
       " 'build',\n",
       " 'iot',\n",
       " 'apps',\n",
       " 'watson',\n",
       " 'swift',\n",
       " 'red',\n",
       " 'fun',\n",
       " 'iot',\n",
       " 'learn',\n",
       " 'way',\n",
       " 'swift',\n",
       " 'developer',\n",
       " 'want',\n",
       " 'learn',\n",
       " 'iot',\n",
       " 'watson',\n",
       " 'ai',\n",
       " 'services',\n",
       " 'cloud',\n",
       " 'raspberry',\n",
       " 'pi',\n",
       " 'node',\n",
       " 'red',\n",
       " 'found',\n",
       " 'place',\n",
       " 'build',\n",
       " 'iot',\n",
       " 'apps',\n",
       " 'read',\n",
       " 'temperature',\n",
       " 'data',\n",
       " 'take',\n",
       " 'pictures',\n",
       " 'raspcam',\n",
       " 'use',\n",
       " 'ai',\n",
       " 'recognize',\n",
       " 'objects',\n",
       " 'pictures',\n",
       " 'program',\n",
       " 'irobot',\n",
       " 'create',\n",
       " 'robot']"
      ]
     },
     "execution_count": 40,
     "metadata": {},
     "output_type": "execute_result"
    }
   ],
   "source": [
    "tokenize_course(a_course)"
   ]
  },
  {
   "cell_type": "markdown",
   "id": "39907555-523c-46e8-ac87-9d48ed4e63af",
   "metadata": {},
   "source": [
    "Next, you will need to write some code snippets to generate the BoW features for each course. Let's start by tokenzing all courses in the `courses_df`:\n"
   ]
  },
  {
   "cell_type": "markdown",
   "id": "767bcfdc-b728-4540-ba91-8f52caa916ce",
   "metadata": {},
   "source": [
    "_TODO: Use provided tokenize_course() method to tokenize all courses in courses_df['course_texts']._\n"
   ]
  },
  {
   "cell_type": "code",
   "execution_count": 53,
   "metadata": {},
   "outputs": [],
   "source": [
    "course_content_df['token'] = course_content_df['course_texts'].apply(lambda text: tokenize_course(text, True))\n",
    "\n",
    "#tokens_dict= {title: count for title, count in zip(course_content_df.index, tokenize_course(text, True))}"
   ]
  },
  {
   "cell_type": "code",
   "execution_count": 55,
   "metadata": {},
   "outputs": [
    {
     "data": {
      "text/html": [
       "<div>\n",
       "<style scoped>\n",
       "    .dataframe tbody tr th:only-of-type {\n",
       "        vertical-align: middle;\n",
       "    }\n",
       "\n",
       "    .dataframe tbody tr th {\n",
       "        vertical-align: top;\n",
       "    }\n",
       "\n",
       "    .dataframe thead th {\n",
       "        text-align: right;\n",
       "    }\n",
       "</style>\n",
       "<table border=\"1\" class=\"dataframe\">\n",
       "  <thead>\n",
       "    <tr style=\"text-align: right;\">\n",
       "      <th></th>\n",
       "      <th>index</th>\n",
       "      <th>COURSE_ID</th>\n",
       "      <th>TITLE</th>\n",
       "      <th>DESCRIPTION</th>\n",
       "      <th>course_texts</th>\n",
       "      <th>token</th>\n",
       "    </tr>\n",
       "  </thead>\n",
       "  <tbody>\n",
       "    <tr>\n",
       "      <th>0</th>\n",
       "      <td>0</td>\n",
       "      <td>ML0201EN</td>\n",
       "      <td>robots are coming  build iot apps with watson ...</td>\n",
       "      <td>have fun with iot and learn along the way  if ...</td>\n",
       "      <td>robots are coming  build iot apps with watson ...</td>\n",
       "      <td>[robots, coming, build, iot, apps, watson, swi...</td>\n",
       "    </tr>\n",
       "    <tr>\n",
       "      <th>1</th>\n",
       "      <td>1</td>\n",
       "      <td>ML0122EN</td>\n",
       "      <td>accelerating deep learning with gpu</td>\n",
       "      <td>training complex deep learning models with lar...</td>\n",
       "      <td>accelerating deep learning with gpu training c...</td>\n",
       "      <td>[accelerating, deep, learning, gpu, training, ...</td>\n",
       "    </tr>\n",
       "    <tr>\n",
       "      <th>2</th>\n",
       "      <td>2</td>\n",
       "      <td>GPXX0ZG0EN</td>\n",
       "      <td>consuming restful services using the reactive ...</td>\n",
       "      <td>learn how to use a reactive jax rs client to a...</td>\n",
       "      <td>consuming restful services using the reactive ...</td>\n",
       "      <td>[consuming, restful, services, using, reactive...</td>\n",
       "    </tr>\n",
       "    <tr>\n",
       "      <th>3</th>\n",
       "      <td>3</td>\n",
       "      <td>RP0105EN</td>\n",
       "      <td>analyzing big data in r using apache spark</td>\n",
       "      <td>apache spark is a popular cluster computing fr...</td>\n",
       "      <td>analyzing big data in r using apache spark apa...</td>\n",
       "      <td>[analyzing, big, data, r, using, apache, spark...</td>\n",
       "    </tr>\n",
       "    <tr>\n",
       "      <th>4</th>\n",
       "      <td>4</td>\n",
       "      <td>GPXX0Z2PEN</td>\n",
       "      <td>containerizing  packaging  and running a sprin...</td>\n",
       "      <td>learn how to containerize  package  and run a ...</td>\n",
       "      <td>containerizing  packaging  and running a sprin...</td>\n",
       "      <td>[containerizing, packaging, running, spring, b...</td>\n",
       "    </tr>\n",
       "  </tbody>\n",
       "</table>\n",
       "</div>"
      ],
      "text/plain": [
       "   index   COURSE_ID                                              TITLE  \\\n",
       "0      0    ML0201EN  robots are coming  build iot apps with watson ...   \n",
       "1      1    ML0122EN                accelerating deep learning with gpu   \n",
       "2      2  GPXX0ZG0EN  consuming restful services using the reactive ...   \n",
       "3      3    RP0105EN         analyzing big data in r using apache spark   \n",
       "4      4  GPXX0Z2PEN  containerizing  packaging  and running a sprin...   \n",
       "\n",
       "                                         DESCRIPTION  \\\n",
       "0  have fun with iot and learn along the way  if ...   \n",
       "1  training complex deep learning models with lar...   \n",
       "2  learn how to use a reactive jax rs client to a...   \n",
       "3  apache spark is a popular cluster computing fr...   \n",
       "4  learn how to containerize  package  and run a ...   \n",
       "\n",
       "                                        course_texts  \\\n",
       "0  robots are coming  build iot apps with watson ...   \n",
       "1  accelerating deep learning with gpu training c...   \n",
       "2  consuming restful services using the reactive ...   \n",
       "3  analyzing big data in r using apache spark apa...   \n",
       "4  containerizing  packaging  and running a sprin...   \n",
       "\n",
       "                                               token  \n",
       "0  [robots, coming, build, iot, apps, watson, swi...  \n",
       "1  [accelerating, deep, learning, gpu, training, ...  \n",
       "2  [consuming, restful, services, using, reactive...  \n",
       "3  [analyzing, big, data, r, using, apache, spark...  \n",
       "4  [containerizing, packaging, running, spring, b...  "
      ]
     },
     "execution_count": 55,
     "metadata": {},
     "output_type": "execute_result"
    }
   ],
   "source": [
    "course_content_df.head(5)"
   ]
  },
  {
   "cell_type": "code",
   "execution_count": null,
   "id": "8f8d4842-97d0-4162-8958-51801bc3f080",
   "metadata": {},
   "outputs": [],
   "source": [
    "# WRITE YOUR CODE HERE\n",
    "#tokenize_course(a_course)"
   ]
  },
  {
   "cell_type": "markdown",
   "id": "afe9c3cd-d79b-42d2-8b53-ba13e12b9530",
   "metadata": {},
   "source": [
    "\n",
    "<details>\n",
    "    <summary>Click here for Hints</summary>\n",
    "\n",
    "Use `tokenize_course(text, True)` command to tokenize each text in `courses_df['course_texts']`\n"
   ]
  },
  {
   "cell_type": "markdown",
   "id": "84f7ed6c-6690-4221-b2c1-4125aad7e1b1",
   "metadata": {},
   "source": [
    "Then we need to create a token dictionary `tokens_dict`\n"
   ]
  },
  {
   "cell_type": "markdown",
   "id": "2f499589-e120-4902-8107-1ce0eb3c8a88",
   "metadata": {},
   "source": [
    "_TODO: Use gensim.corpora.Dictionary(tokenized_courses) to create a token dictionary._\n"
   ]
  },
  {
   "cell_type": "code",
   "execution_count": 61,
   "metadata": {},
   "outputs": [],
   "source": [
    "tkn_col=course_content_df['token']"
   ]
  },
  {
   "cell_type": "code",
   "execution_count": 57,
   "id": "44686fa2-9976-4f78-95ba-5c644f63737a",
   "metadata": {},
   "outputs": [],
   "source": [
    "# WRITE YOUR CODE HERE\n",
    "tokens_dict = gensim.corpora.Dictionary(toekn_col)"
   ]
  },
  {
   "cell_type": "markdown",
   "id": "1e844282-a017-4bfd-8578-eaf6148b855d",
   "metadata": {},
   "source": [
    "Then we can use `doc2bow()` method to generate BoW features for each tokenized course.\n"
   ]
  },
  {
   "cell_type": "markdown",
   "id": "5ec8d96b-78ad-4e1e-bce4-395555ae840b",
   "metadata": {},
   "source": [
    "_TODO: Use tokens_dict.doc2bow() to generate BoW features for each tokenized course._\n"
   ]
  },
  {
   "cell_type": "code",
   "execution_count": 62,
   "id": "acedc4df-22f4-4f7f-a19f-36ab346d707c",
   "metadata": {},
   "outputs": [],
   "source": [
    "# WRITE YOUR CODE HERE\n",
    "courses_bow = [tokens_dict.doc2bow(course) for course in tkn_col]"
   ]
  },
  {
   "cell_type": "markdown",
   "id": "e9b01648-53d7-492d-b5e0-eba8f5a50d6c",
   "metadata": {},
   "source": [
    "<details>\n",
    "    <summary>Click here for Hints</summary>\n",
    "    \n",
    "You can use `tokens_dict.doc2bow(course)` command  for each course in `tokenized_courses`\n"
   ]
  },
  {
   "cell_type": "markdown",
   "id": "7f30dd84-f6e3-4afc-bf65-63e374dd7e90",
   "metadata": {},
   "source": [
    "Lastly, you need to append the BoW features for each course into a new BoW dataframe. The new dataframe needs to include the following columns (you may include other relevant columns as well):\n",
    "- 'doc_index': the course index starting from 0\n",
    "- 'doc_id': the actual course id such as `ML0201EN`\n",
    "- 'token': the tokens for each course\n",
    "- 'bow': the bow value for each token\n"
   ]
  },
  {
   "cell_type": "markdown",
   "id": "f2dc4446-cd42-4e12-b812-604229bc4544",
   "metadata": {},
   "source": [
    "_TODO: Create a new course_bow dataframe based on the extracted BoW features._\n"
   ]
  },
  {
   "cell_type": "code",
   "execution_count": 63,
   "metadata": {},
   "outputs": [],
   "source": [
    "course_content_df['bow'] = course_content_df['token'].apply(lambda course: tokens_dict.doc2bow(course))"
   ]
  },
  {
   "cell_type": "code",
   "execution_count": 64,
   "metadata": {},
   "outputs": [
    {
     "data": {
      "text/html": [
       "<div>\n",
       "<style scoped>\n",
       "    .dataframe tbody tr th:only-of-type {\n",
       "        vertical-align: middle;\n",
       "    }\n",
       "\n",
       "    .dataframe tbody tr th {\n",
       "        vertical-align: top;\n",
       "    }\n",
       "\n",
       "    .dataframe thead th {\n",
       "        text-align: right;\n",
       "    }\n",
       "</style>\n",
       "<table border=\"1\" class=\"dataframe\">\n",
       "  <thead>\n",
       "    <tr style=\"text-align: right;\">\n",
       "      <th></th>\n",
       "      <th>index</th>\n",
       "      <th>COURSE_ID</th>\n",
       "      <th>TITLE</th>\n",
       "      <th>DESCRIPTION</th>\n",
       "      <th>course_texts</th>\n",
       "      <th>token</th>\n",
       "      <th>bow</th>\n",
       "    </tr>\n",
       "  </thead>\n",
       "  <tbody>\n",
       "    <tr>\n",
       "      <th>0</th>\n",
       "      <td>0</td>\n",
       "      <td>ML0201EN</td>\n",
       "      <td>robots are coming  build iot apps with watson ...</td>\n",
       "      <td>have fun with iot and learn along the way  if ...</td>\n",
       "      <td>robots are coming  build iot apps with watson ...</td>\n",
       "      <td>[robots, coming, build, iot, apps, watson, swi...</td>\n",
       "      <td>[(0, 2), (1, 2), (2, 2), (3, 1), (4, 1), (5, 1...</td>\n",
       "    </tr>\n",
       "    <tr>\n",
       "      <th>1</th>\n",
       "      <td>1</td>\n",
       "      <td>ML0122EN</td>\n",
       "      <td>accelerating deep learning with gpu</td>\n",
       "      <td>training complex deep learning models with lar...</td>\n",
       "      <td>accelerating deep learning with gpu training c...</td>\n",
       "      <td>[accelerating, deep, learning, gpu, training, ...</td>\n",
       "      <td>[(0, 2), (3, 2), (6, 1), (12, 1), (30, 4), (34...</td>\n",
       "    </tr>\n",
       "    <tr>\n",
       "      <th>2</th>\n",
       "      <td>2</td>\n",
       "      <td>GPXX0ZG0EN</td>\n",
       "      <td>consuming restful services using the reactive ...</td>\n",
       "      <td>learn how to use a reactive jax rs client to a...</td>\n",
       "      <td>consuming restful services using the reactive ...</td>\n",
       "      <td>[consuming, restful, services, using, reactive...</td>\n",
       "      <td>[(12, 1), (26, 1), (30, 1), (108, 2), (109, 1)...</td>\n",
       "    </tr>\n",
       "    <tr>\n",
       "      <th>3</th>\n",
       "      <td>3</td>\n",
       "      <td>RP0105EN</td>\n",
       "      <td>analyzing big data in r using apache spark</td>\n",
       "      <td>apache spark is a popular cluster computing fr...</td>\n",
       "      <td>analyzing big data in r using apache spark apa...</td>\n",
       "      <td>[analyzing, big, data, r, using, apache, spark...</td>\n",
       "      <td>[(6, 4), (63, 1), (77, 1), (83, 1), (117, 1), ...</td>\n",
       "    </tr>\n",
       "    <tr>\n",
       "      <th>4</th>\n",
       "      <td>4</td>\n",
       "      <td>GPXX0Z2PEN</td>\n",
       "      <td>containerizing  packaging  and running a sprin...</td>\n",
       "      <td>learn how to containerize  package  and run a ...</td>\n",
       "      <td>containerizing  packaging  and running a sprin...</td>\n",
       "      <td>[containerizing, packaging, running, spring, b...</td>\n",
       "      <td>[(12, 1), (140, 2), (141, 2), (142, 1), (143, ...</td>\n",
       "    </tr>\n",
       "    <tr>\n",
       "      <th>...</th>\n",
       "      <td>...</td>\n",
       "      <td>...</td>\n",
       "      <td>...</td>\n",
       "      <td>...</td>\n",
       "      <td>...</td>\n",
       "      <td>...</td>\n",
       "      <td>...</td>\n",
       "    </tr>\n",
       "    <tr>\n",
       "      <th>302</th>\n",
       "      <td>302</td>\n",
       "      <td>excourse89</td>\n",
       "      <td>javascript  jquery  and json</td>\n",
       "      <td>in this course  we ll look at the javascript l...</td>\n",
       "      <td>javascript  jquery  and json in this course  w...</td>\n",
       "      <td>[javascript, jquery, json, course, look, javas...</td>\n",
       "      <td>[(6, 1), (12, 1), (48, 1), (92, 1), (137, 1), ...</td>\n",
       "    </tr>\n",
       "    <tr>\n",
       "      <th>303</th>\n",
       "      <td>303</td>\n",
       "      <td>excourse90</td>\n",
       "      <td>programming foundations with javascript  html ...</td>\n",
       "      <td>learn foundational programming concepts  e g  ...</td>\n",
       "      <td>programming foundations with javascript  html ...</td>\n",
       "      <td>[programming, foundations, javascript, html, c...</td>\n",
       "      <td>[(2, 1), (5, 2), (12, 2), (30, 1), (48, 2), (6...</td>\n",
       "    </tr>\n",
       "    <tr>\n",
       "      <th>304</th>\n",
       "      <td>304</td>\n",
       "      <td>excourse91</td>\n",
       "      <td>front end web development with react</td>\n",
       "      <td>this course explores javascript based front en...</td>\n",
       "      <td>front end web development with react this cour...</td>\n",
       "      <td>[front, end, web, development, react, course, ...</td>\n",
       "      <td>[(12, 3), (30, 9), (38, 2), (48, 6), (61, 1), ...</td>\n",
       "    </tr>\n",
       "    <tr>\n",
       "      <th>305</th>\n",
       "      <td>305</td>\n",
       "      <td>excourse92</td>\n",
       "      <td>introduction to web development</td>\n",
       "      <td>this course is designed to start you on a path...</td>\n",
       "      <td>introduction to web development this course is...</td>\n",
       "      <td>[introduction, web, development, course, desig...</td>\n",
       "      <td>[(2, 1), (5, 1), (17, 1), (28, 1), (48, 3), (5...</td>\n",
       "    </tr>\n",
       "    <tr>\n",
       "      <th>306</th>\n",
       "      <td>306</td>\n",
       "      <td>excourse93</td>\n",
       "      <td>interactivity with javascript and jquery</td>\n",
       "      <td>this course is the third in our javascript for...</td>\n",
       "      <td>interactivity with javascript and jquery this ...</td>\n",
       "      <td>[interactivity, javascript, jquery, course, th...</td>\n",
       "      <td>[(5, 2), (6, 3), (14, 5), (18, 1), (38, 1), (4...</td>\n",
       "    </tr>\n",
       "  </tbody>\n",
       "</table>\n",
       "<p>307 rows × 7 columns</p>\n",
       "</div>"
      ],
      "text/plain": [
       "     index   COURSE_ID                                              TITLE  \\\n",
       "0        0    ML0201EN  robots are coming  build iot apps with watson ...   \n",
       "1        1    ML0122EN                accelerating deep learning with gpu   \n",
       "2        2  GPXX0ZG0EN  consuming restful services using the reactive ...   \n",
       "3        3    RP0105EN         analyzing big data in r using apache spark   \n",
       "4        4  GPXX0Z2PEN  containerizing  packaging  and running a sprin...   \n",
       "..     ...         ...                                                ...   \n",
       "302    302  excourse89                       javascript  jquery  and json   \n",
       "303    303  excourse90  programming foundations with javascript  html ...   \n",
       "304    304  excourse91               front end web development with react   \n",
       "305    305  excourse92                    introduction to web development   \n",
       "306    306  excourse93           interactivity with javascript and jquery   \n",
       "\n",
       "                                           DESCRIPTION  \\\n",
       "0    have fun with iot and learn along the way  if ...   \n",
       "1    training complex deep learning models with lar...   \n",
       "2    learn how to use a reactive jax rs client to a...   \n",
       "3    apache spark is a popular cluster computing fr...   \n",
       "4    learn how to containerize  package  and run a ...   \n",
       "..                                                 ...   \n",
       "302  in this course  we ll look at the javascript l...   \n",
       "303  learn foundational programming concepts  e g  ...   \n",
       "304  this course explores javascript based front en...   \n",
       "305  this course is designed to start you on a path...   \n",
       "306  this course is the third in our javascript for...   \n",
       "\n",
       "                                          course_texts  \\\n",
       "0    robots are coming  build iot apps with watson ...   \n",
       "1    accelerating deep learning with gpu training c...   \n",
       "2    consuming restful services using the reactive ...   \n",
       "3    analyzing big data in r using apache spark apa...   \n",
       "4    containerizing  packaging  and running a sprin...   \n",
       "..                                                 ...   \n",
       "302  javascript  jquery  and json in this course  w...   \n",
       "303  programming foundations with javascript  html ...   \n",
       "304  front end web development with react this cour...   \n",
       "305  introduction to web development this course is...   \n",
       "306  interactivity with javascript and jquery this ...   \n",
       "\n",
       "                                                 token  \\\n",
       "0    [robots, coming, build, iot, apps, watson, swi...   \n",
       "1    [accelerating, deep, learning, gpu, training, ...   \n",
       "2    [consuming, restful, services, using, reactive...   \n",
       "3    [analyzing, big, data, r, using, apache, spark...   \n",
       "4    [containerizing, packaging, running, spring, b...   \n",
       "..                                                 ...   \n",
       "302  [javascript, jquery, json, course, look, javas...   \n",
       "303  [programming, foundations, javascript, html, c...   \n",
       "304  [front, end, web, development, react, course, ...   \n",
       "305  [introduction, web, development, course, desig...   \n",
       "306  [interactivity, javascript, jquery, course, th...   \n",
       "\n",
       "                                                   bow  \n",
       "0    [(0, 2), (1, 2), (2, 2), (3, 1), (4, 1), (5, 1...  \n",
       "1    [(0, 2), (3, 2), (6, 1), (12, 1), (30, 4), (34...  \n",
       "2    [(12, 1), (26, 1), (30, 1), (108, 2), (109, 1)...  \n",
       "3    [(6, 4), (63, 1), (77, 1), (83, 1), (117, 1), ...  \n",
       "4    [(12, 1), (140, 2), (141, 2), (142, 1), (143, ...  \n",
       "..                                                 ...  \n",
       "302  [(6, 1), (12, 1), (48, 1), (92, 1), (137, 1), ...  \n",
       "303  [(2, 1), (5, 2), (12, 2), (30, 1), (48, 2), (6...  \n",
       "304  [(12, 3), (30, 9), (38, 2), (48, 6), (61, 1), ...  \n",
       "305  [(2, 1), (5, 1), (17, 1), (28, 1), (48, 3), (5...  \n",
       "306  [(5, 2), (6, 3), (14, 5), (18, 1), (38, 1), (4...  \n",
       "\n",
       "[307 rows x 7 columns]"
      ]
     },
     "execution_count": 64,
     "metadata": {},
     "output_type": "execute_result"
    }
   ],
   "source": [
    "course_content_df"
   ]
  },
  {
   "cell_type": "code",
   "execution_count": null,
   "id": "debee268-c31d-441c-9a21-c9025fc8e288",
   "metadata": {},
   "outputs": [],
   "source": [
    "# WRITE YOUR CODE HERE\n",
    "\n",
    "#  ...\n",
    "#  bow_dicts = {\"doc_index\": doc_indices,\n",
    "#            \"doc_id\": doc_ids,\n",
    "#            \"token\": tokens,\n",
    "#            \"bow\": bow_values}\n",
    "#  pd.DataFrame(bow_dicts)"
   ]
  },
  {
   "cell_type": "markdown",
   "id": "bf5f4ce8-a48a-495e-825d-98857576749a",
   "metadata": {},
   "source": [
    "<details>\n",
    "    <summary>Click here for Hints</summary>\n",
    "    \n",
    "You can use 2 for-loops to create your data frame: first one will be `for doc_index, doc_bow in enumerate(bow_docs):` where bow_docs is the list of BoW features for each tokenized course and within this for-loop you will have another loop `for token_index, token_bow in doc_bow:`. Then you can get each \"token\" by applying the `token_index` to your `token_dict`,  `token_bow` will give you \"bow\" values, `doc_indices` will give you values for  \"doc_index\" and you can get \"doc_id\" by using `courses_df['COURSE_ID']` list and `doc_index` as indexes.\n"
   ]
  },
  {
   "cell_type": "markdown",
   "id": "62552290-8e53-4e5d-9fb1-6abdec875b08",
   "metadata": {},
   "source": [
    "Your course BoW dataframe may look like the following:\n"
   ]
  },
  {
   "cell_type": "markdown",
   "id": "14cc5ac0-bd11-485a-9ef1-fb40101676d8",
   "metadata": {},
   "source": [
    "![](https://cf-courses-data.s3.us.cloud-object-storage.appdomain.cloud/IBM-ML321EN-SkillsNetwork/labs/module_2/images/bow_dataset.png)\n"
   ]
  },
  {
   "cell_type": "markdown",
   "id": "7eee1a8d-fb3e-48bb-b1a6-65fe7745b321",
   "metadata": {},
   "source": [
    "You may refer to previous code examples in this lab if you need help with creating the BoW dataframe.\n"
   ]
  },
  {
   "cell_type": "markdown",
   "id": "f99350d3-7109-4831-bb88-e2dfe42584c6",
   "metadata": {},
   "source": [
    "### Other popular textual features\n"
   ]
  },
  {
   "cell_type": "markdown",
   "id": "48281f28-44b4-476d-8fb0-55ec2707d6ce",
   "metadata": {},
   "source": [
    "In addition to the basic token BoW feature, there are two other types of widely used textual features. If you are interested, you may explore them yourself to learn how to extract them from the course textual content: \n"
   ]
  },
  {
   "cell_type": "markdown",
   "id": "0f03d93c-acde-4228-aa3f-706d399a4664",
   "metadata": {},
   "source": [
    "- **tf-idf**: tf-idf refers to Term Frequency–Inverse Document Frequency. Similar to BoW, the tf-idf also counts the word frequencies in each document. Furthermore, tf-idf will  offset the number of documents in the corpus that contain the word in order to adjust for the fact that some words appear more frequently in general. The higher the tf-idf normally means the greater the importance the word/token is.\n",
    "- **Text embedding vector**. Embedding means projecting an object into a latent feature space. We normally employ neural networks or deep neural networks to learn the latent features of a textual object such as a word, a sentence, or the entire document. The learned latent feature vectors will be used to represent the original textual entities. \n"
   ]
  },
  {
   "cell_type": "markdown",
   "id": "42e466ac-0b96-438e-82be-058905cc2511",
   "metadata": {},
   "source": [
    "### Summary\n"
   ]
  },
  {
   "cell_type": "markdown",
   "id": "0ad3b588-9f7d-470a-8152-27a9a167b669",
   "metadata": {},
   "source": [
    "Congratulations, you have completed the BoW feature extraction lab. In this lab, you have learned and practiced extracting BoW features from course titles and descriptions. Once the feature vectors on the courses has been built, we can then apply machine learning algorithms such as similarity measurements, clustering, or classification on the courses in later labs.\n"
   ]
  },
  {
   "cell_type": "markdown",
   "id": "efed39d8-a3e7-4054-8314-3b8418b70fd4",
   "metadata": {},
   "source": [
    "## Authors\n"
   ]
  },
  {
   "cell_type": "markdown",
   "id": "93e21023-2ed9-4f3c-af4b-1db5323f0458",
   "metadata": {},
   "source": [
    "[Yan Luo](https://www.linkedin.com/in/yan-luo-96288783/?utm_medium=Exinfluencer&utm_source=Exinfluencer&utm_content=000026UJ&utm_term=10006555&utm_id=NA-SkillsNetwork-Channel-SkillsNetworkCoursesIBMML321ENSkillsNetwork817-2022-01-01)\n"
   ]
  },
  {
   "cell_type": "markdown",
   "id": "acf7a0a7-3c03-4854-a12e-01a673576160",
   "metadata": {},
   "source": [
    "### Other Contributors\n"
   ]
  },
  {
   "cell_type": "markdown",
   "id": "03a13659-178e-415d-9b44-990390536d0f",
   "metadata": {},
   "source": [
    "## Change Log\n"
   ]
  },
  {
   "cell_type": "markdown",
   "id": "203ccbc6-9624-4ba3-96cc-e1adf00c63b4",
   "metadata": {},
   "source": [
    "|Date (YYYY-MM-DD)|Version|Changed By|Change Description|\n",
    "|-|-|-|-|\n",
    "|2021-10-25|1.0|Yan|Created the initial version|\n"
   ]
  },
  {
   "cell_type": "markdown",
   "id": "870b57df-0496-494a-8c29-c79c16093c15",
   "metadata": {},
   "source": [
    "Copyright © 2021 IBM Corporation. All rights reserved.\n"
   ]
  }
 ],
 "metadata": {
  "kernelspec": {
   "display_name": "Jin",
   "language": "python",
   "name": "jin"
  },
  "language_info": {
   "codemirror_mode": {
    "name": "ipython",
    "version": 3
   },
   "file_extension": ".py",
   "mimetype": "text/x-python",
   "name": "python",
   "nbconvert_exporter": "python",
   "pygments_lexer": "ipython3",
   "version": "3.8.18"
  }
 },
 "nbformat": 4,
 "nbformat_minor": 4
}
