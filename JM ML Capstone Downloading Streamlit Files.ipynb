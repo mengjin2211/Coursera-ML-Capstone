{
 "cells": [
  {
   "cell_type": "code",
   "execution_count": 1,
   "id": "5b44fdbc",
   "metadata": {},
   "outputs": [
    {
     "name": "stderr",
     "output_type": "stream",
     "text": [
      "'wget' is not recognized as an internal or external command,\n",
      "operable program or batch file.\n"
     ]
    }
   ],
   "source": [
    "!wget https://cf-courses-data.s3.us.cloud-object-storage.appdomain.cloud/IBM-ML321EN-SkillsNetwork/labs/module_5/app.zip"
   ]
  },
  {
   "cell_type": "code",
   "execution_count": 5,
   "id": "0c4d5473",
   "metadata": {},
   "outputs": [],
   "source": [
    "import zipfile\n",
    "import os"
   ]
  },
  {
   "cell_type": "code",
   "execution_count": 10,
   "id": "ae676eb0",
   "metadata": {},
   "outputs": [
    {
     "name": "stdout",
     "output_type": "stream",
     "text": [
      "File downloaded successfully.\n",
      "File unzipped successfully.\n",
      "Files in the extracted folder:\n",
      "['app']\n"
     ]
    }
   ],
   "source": [
    "import requests\n",
    "import zipfile\n",
    "import os\n",
    "\n",
    "url = \"https://cf-courses-data.s3.us.cloud-object-storage.appdomain.cloud/IBM-ML321EN-SkillsNetwork/labs/module_5/app.zip\"\n",
    "response = requests.get(url)\n",
    "\n",
    "# Check if the request was successful\n",
    "if response.status_code == 200:\n",
    "    # Save the zip file\n",
    "    with open(\"app.zip\", \"wb\") as f:\n",
    "        f.write(response.content)\n",
    "    print(\"File downloaded successfully.\")\n",
    "\n",
    "    # Unzip the file\n",
    "    with zipfile.ZipFile(\"app.zip\", \"r\") as zip_ref:\n",
    "        zip_ref.extractall(\"extracted_folder\")  # Extract files to the \"extracted_folder\" directory\n",
    "\n",
    "    print(\"File unzipped successfully.\")\n",
    "\n",
    "    # List the files in the extracted folder\n",
    "    extracted_files = os.listdir(\"extracted_folder\")\n",
    "    print(\"Files in the extracted folder:\")\n",
    "    print(extracted_files)\n",
    "\n",
    "else:\n",
    "    print(\"Failed to download the file.\")\n"
   ]
  },
  {
   "cell_type": "code",
   "execution_count": 11,
   "id": "5b951a55",
   "metadata": {},
   "outputs": [
    {
     "name": "stdout",
     "output_type": "stream",
     "text": [
      "['.bash_history', '.conda', '.condarc', '.continuum', '.docker', '.gitconfig', '.i4j_jres', '.Icecream PDF Split and Merge', '.ipynb_checkpoints', '.ipython', '.jupyter', '.keras', '.matplotlib', '.ms-ad', '3D Objects', 'anaconda3', 'Apache Spark Fundamental.ipynb', 'app', 'app.zip', 'AppData', 'Application Data', 'Build a Dashboard Application with Plotly Dash.ipynb', 'Contacts', 'Cookies', 'course_ratings.csv', 'covert pdf.ipynb', 'Custom Defect Reason Analysis.ipynb', 'Dashboard.ipynb', 'data', 'Data Collection API.ipynb', 'Data Visualization.ipynb', 'Desktop', 'Documents', 'Downloads', 'extracted_folder', 'Favorites', 'Games', 'Google Sheet API Chart.ipynb', 'Hands-on Lab_ Data Collection with Web Scraping.ipynb', 'hwid', 'JM Coursera ML Capstone bow_solution.ipynb', 'JM Disbursement Editing Python-Final.ipynb', 'JM ML Capstone Data Exploration .ipynb', 'Links', 'Local Settings', 'logs', 'Microsoft', 'MicrosoftEdgeBackups', 'Music', 'My Documents', 'NetHood', 'NTUSER.DAT', 'ntuser.dat.LOG1', 'ntuser.dat.LOG2', 'NTUSER.DAT{3f4e8e9c-f5ad-11eb-9f11-ed3dfd6c787d}.TM.blf', 'NTUSER.DAT{3f4e8e9c-f5ad-11eb-9f11-ed3dfd6c787d}.TMContainer00000000000000000001.regtrans-ms', 'NTUSER.DAT{3f4e8e9c-f5ad-11eb-9f11-ed3dfd6c787d}.TMContainer00000000000000000002.regtrans-ms', 'ntuser.ini', 'OneDrive', 'output.csv', 'Pictures', 'PrintHood', 'Recent', 'results', 'Roaming', 'Sample_ML Capstone Classification using Embedding.ipynb', 'Sample_ML Capstone Course Similarity.ipynb', 'Sample_ML Capstone KNN.ipynb', 'Sample_ML Capstone NMF.ipynb', 'Sample_ML Capstone_Clustering .ipynb', 'Saved Games', 'Searches', 'SendTo', 'sfuvault', 'source', 'SQL.ipynb', 'Stock.ipynb', 'Templates', 'time-series-forecasting-arima-lstm-prophet.ipynb', 'Untitled.ipynb', 'Videos', 'Webscraping_Engineer_Peer_Review_Assignment (1).ipynb', '「开始」菜单']\n"
     ]
    }
   ],
   "source": [
    "extracted_files = os.listdir()\n",
    "print(extracted_files)"
   ]
  },
  {
   "cell_type": "code",
   "execution_count": 12,
   "id": "6d67e8a8",
   "metadata": {},
   "outputs": [
    {
     "data": {
      "text/plain": [
       "'C:\\\\Users\\\\chaid'"
      ]
     },
     "execution_count": 12,
     "metadata": {},
     "output_type": "execute_result"
    }
   ],
   "source": [
    "import os\n",
    "\n",
    "os.path.abspath(os.path.curdir)"
   ]
  },
  {
   "cell_type": "code",
   "execution_count": null,
   "id": "d89fb45e",
   "metadata": {},
   "outputs": [],
   "source": []
  }
 ],
 "metadata": {
  "kernelspec": {
   "display_name": "Jin",
   "language": "python",
   "name": "jin"
  },
  "language_info": {
   "codemirror_mode": {
    "name": "ipython",
    "version": 3
   },
   "file_extension": ".py",
   "mimetype": "text/x-python",
   "name": "python",
   "nbconvert_exporter": "python",
   "pygments_lexer": "ipython3",
   "version": "3.8.18"
  }
 },
 "nbformat": 4,
 "nbformat_minor": 5
}
